{
 "cells": [
  {
   "cell_type": "code",
   "execution_count": 1,
   "metadata": {},
   "outputs": [],
   "source": [
    "import numpy as np\n",
    "from scipy.spatial import KDTree\n",
    "import matplotlib.pyplot as plt\n",
    "from skimage import measure\n",
    "import polyscope as ps\n",
    "from skimage.measure import marching_cubes\n",
    "\n",
    "import mlslib as mls\n"
   ]
  },
  {
   "cell_type": "code",
   "execution_count": 2,
   "metadata": {},
   "outputs": [],
   "source": [
    "\n",
    "def read_off(file_name: str):\n",
    "    # Open the file for reading\n",
    "    with open(file_name, 'r') as file:\n",
    "        # Read the first line and check if it is 'OFF'\n",
    "        if file.readline().strip() != 'NOFF':\n",
    "            raise ValueError('Invalid file format')\n",
    "        \n",
    "        # Read the next two lines to get the number of vertices and faces\n",
    "        num_vertices, num_faces, _ = map(int, file.readline().strip().split())\n",
    "        \n",
    "        # Read the vertices\n",
    "        vertices_normals = [list(map(float, file.readline().strip().split())) for _ in range(num_vertices)]\n",
    "        vertices, normals = zip(*[[x[:3], x[3:]] for x in vertices_normals])\n",
    "        \n",
    "        # Read the faces\n",
    "        faces = [list(map(int, file.readline().strip().split()))[1:] for _ in range(num_faces)]\n",
    "        \n",
    "        # Return the vertices, faces and normals\n",
    "        return np.array(vertices), np.array(faces), np.array(normals)"
   ]
  },
  {
   "cell_type": "markdown",
   "metadata": {},
   "source": [
    "Test Data "
   ]
  },
  {
   "cell_type": "code",
   "execution_count": 3,
   "metadata": {},
   "outputs": [],
   "source": [
    "from utils import bounding_box_diag ,  generate_grid , vals2colors\n",
    "\n",
    "def point_cloud_reader(data_path):\n",
    "        vertices, faces_gt,normals  = read_off(data_path)\n",
    "        ps.init()\n",
    "        ps.set_up_dir(\"z_up\") # Fix default camera orientation \n",
    "        # gt_mesh = ps.register_surface_mesh(\"gt_mesh\", vertices, faces_gt)\n",
    "        # gt_mesh.set_enabled(True)\n",
    "\n",
    "        ps_cloud = ps.register_point_cloud('pts', vertices)\n",
    "        ps_cloud.add_vector_quantity(\"Normal vec\", normals, radius=0.01, length=0.02, color=(0.2, 0.5, 0.5), enabled=True)\n",
    "\n",
    "        ps.show() # a window with visualization should be opened.\n",
    "        return vertices, normals\n",
    "\n",
    "\n",
    "\n",
    "def point_cloud_csp(vertices , normals):\n",
    "    bbox_diag = bounding_box_diag(vertices)\n",
    "    eps = bbox_diag * 0.01 \n",
    "    new_verts, new_vals = mls.sample_constraints(vertices, normals, eps)\n",
    "    all_pts = np.concatenate([vertices, new_verts])\n",
    "    all_vals = np.concatenate([np.zeros(len(vertices)), new_vals])\n",
    "\n",
    "    ps.register_point_cloud('pos pts', all_pts[all_vals>0])\n",
    "    ps.register_point_cloud('neg pts', all_pts[all_vals<0])\n",
    "\n",
    "    return all_pts , all_vals , bbox_diag\n",
    "\n",
    "\n",
    "def implict_function_eval(all_pts , all_vals , bbox_diag):\n",
    "    resolution = 30\n",
    "    grid_pts, coords_matrix = generate_grid(all_pts, resolution)\n",
    "    local_radius = bbox_diag * 0.1\n",
    "\n",
    "    ps.register_point_cloud('grid pts', grid_pts, radius=0.001)\n",
    "\n",
    "    pred_vals = mls.local_predictor(\n",
    "            grid_pts=grid_pts,\n",
    "            constr_pts=all_pts,\n",
    "            constr_vals=all_vals,\n",
    "            local_radius=local_radius,\n",
    "            degree=1,\n",
    "            reg_coef=1)\n",
    "\n",
    "    colors = vals2colors(pred_vals) # map implicit value to color for visualization\n",
    "    grid_cloud = ps.register_point_cloud('grid pts', grid_pts, radius=0.001)\n",
    "    grid_cloud.add_color_quantity(\"rand colors\", colors, enabled=True)\n",
    "    ps.show()\n",
    "    return pred_vals , coords_matrix \n",
    "\n",
    "\n",
    "def iso_surface(pred_vals , coords_matrix  , resolution):\n",
    "        verts, faces, _, _ = marching_cubes(pred_vals.reshape([resolution, resolution, resolution]), level=0)\n",
    "        verts = (coords_matrix[:3, :3] @ verts.T + coords_matrix[:3, 3:4]).T\n",
    "\n",
    "        pred_mesh = ps.register_surface_mesh(\"mesh\", verts, faces)\n",
    "        ps.show()"
   ]
  },
  {
   "cell_type": "code",
   "execution_count": 4,
   "metadata": {},
   "outputs": [
    {
     "name": "stdout",
     "output_type": "stream",
     "text": [
      "Benchmark for bunny-1000.off: 13.930338144302368 seconds\n"
     ]
    }
   ],
   "source": [
    "model_names = [ 'cat.off' ]\n",
    "import time\n",
    "resolution = 30\n",
    "for cur_name in model_names:\n",
    "    vertices, normals = point_cloud_reader(f\"./data/{cur_name}\")\n",
    "    all_pts, all_vals, eps = point_cloud_csp(vertices, normals)\n",
    "\n",
    "    # Start measuring the time before calling implict_function_eval\n",
    "    start_time = time.time()\n",
    "\n",
    "    pred_vals, coords_matrix = implict_function_eval(all_pts, all_vals, eps)\n",
    "\n",
    "    # Stop measuring the time after implict_function_eval has finished\n",
    "    end_time = time.time()\n",
    "\n",
    "    # Calculate the elapsed time\n",
    "    elapsed_time = end_time - start_time\n",
    "\n",
    "    # Output the benchmark results\n",
    "    print(f\"Benchmark for {cur_name}: {elapsed_time} seconds\")\n",
    "\n",
    "    iso_surface(pred_vals , coords_matrix , resolution)\n",
    "    "
   ]
  },
  {
   "cell_type": "code",
   "execution_count": null,
   "metadata": {},
   "outputs": [],
   "source": []
  }
 ],
 "metadata": {
  "kernelspec": {
   "display_name": "Python 3",
   "language": "python",
   "name": "python3"
  },
  "language_info": {
   "codemirror_mode": {
    "name": "ipython",
    "version": 3
   },
   "file_extension": ".py",
   "mimetype": "text/x-python",
   "name": "python",
   "nbconvert_exporter": "python",
   "pygments_lexer": "ipython3",
   "version": "3.12.2"
  }
 },
 "nbformat": 4,
 "nbformat_minor": 2
}
